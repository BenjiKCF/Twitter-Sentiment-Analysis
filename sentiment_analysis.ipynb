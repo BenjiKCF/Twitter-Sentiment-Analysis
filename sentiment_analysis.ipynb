{
 "cells": [
  {
   "cell_type": "markdown",
   "metadata": {},
   "source": [
    "# Import module"
   ]
  },
  {
   "cell_type": "code",
   "execution_count": 8,
   "metadata": {
    "collapsed": false
   },
   "outputs": [],
   "source": [
    "import tweepy\n",
    "from textblob import TextBlob"
   ]
  },
  {
   "cell_type": "markdown",
   "metadata": {},
   "source": [
    "# Input key and secret"
   ]
  },
  {
   "cell_type": "code",
   "execution_count": 3,
   "metadata": {
    "collapsed": true
   },
   "outputs": [],
   "source": [
    "consumer_key = \"your_key\"\n",
    "consumer_secret = 'your_secret'\n",
    "\n",
    "access_token = \"your_key\"\n",
    "access_token_secret = \"your_secret\""
   ]
  },
  {
   "cell_type": "code",
   "execution_count": 5,
   "metadata": {
    "collapsed": false
   },
   "outputs": [],
   "source": [
    "auth = tweepy.OAuthHandler(consumer_key, consumer_secret)\n",
    "auth.set_access_token(access_token, access_token_secret)\n",
    "\n",
    "api = tweepy.API(auth)"
   ]
  },
  {
   "cell_type": "markdown",
   "metadata": {},
   "source": [
    "# Input the keyword\n",
    "\n",
    "Polarity: positive to negative\n",
    "\n",
    "Subjectivity: very objective and 1.0 is very subjective."
   ]
  },
  {
   "cell_type": "code",
   "execution_count": 44,
   "metadata": {
    "collapsed": true
   },
   "outputs": [],
   "source": [
    "public_tweets = api.search('North Korea')"
   ]
  },
  {
   "cell_type": "code",
   "execution_count": 45,
   "metadata": {
    "collapsed": false
   },
   "outputs": [
    {
     "name": "stdout",
     "output_type": "stream",
     "text": [
      "@DougDCBTito4lif What should the US do about North Korea?\n",
      "Sentiment(polarity=0.0, subjectivity=0.0)\n",
      "\n",
      "\n",
      "RT @hdevreij: North Korea condemns U.S. for bringing nuclear assets to region. 'Thermo-nuclear war may break out any moment' https://t.co/n…\n",
      "Sentiment(polarity=0.0, subjectivity=0.0)\n",
      "\n",
      "\n",
      "Asian shares, won move south on worries over North Korea https://t.co/8krxvpz8Lt #happeningnow\n",
      "Sentiment(polarity=0.0, subjectivity=0.0)\n",
      "\n",
      "\n",
      "RT @M3t4_tr0n: Recent footage shows a lot of Chinese military vehicles deploying toward North Korea border (prob. AirDef systems) 📹 https:/…\n",
      "Sentiment(polarity=-0.03333333333333333, subjectivity=0.11666666666666665)\n",
      "\n",
      "\n",
      "Afganistan, Russia, Japan, North Korea, and Syria NEWS 4/14/17: https://t.co/yfRyB8mcQB via @YouTube\n",
      "Sentiment(polarity=0.0, subjectivity=0.0)\n",
      "\n",
      "\n",
      "US could destroy North Korea's nuclear site this weekend: report https://t.co/RVPewB66WM https://t.co/XHT69PyyZu\n",
      "Sentiment(polarity=-0.2, subjectivity=0.0)\n",
      "\n",
      "\n",
      "Also at 9\n",
      "\n",
      "North Korea's warning Donald Trump it is prepared for war - and is ready to use its \"powerful nuclear deterrent\".\n",
      "Sentiment(polarity=0.25, subjectivity=0.75)\n",
      "\n",
      "\n",
      "North Korea’s vice foreign minister blames US for tensions – video https://t.co/A4a96XiZVq https://t.co/e2EC0v1v20\n",
      "Sentiment(polarity=-0.125, subjectivity=0.125)\n",
      "\n",
      "\n",
      "RT @tedlieu: Dear @POTUS: Here's a tip. Get a briefing from US officials before you meet with a foreign leader. Or try reading. https://t.c…\n",
      "Sentiment(polarity=-0.125, subjectivity=0.125)\n",
      "\n",
      "\n",
      "RT @japanesepatrio6: https://t.co/eKs4MjI5eU\n",
      "中国の外交・軍事アドバイザーは、北朝鮮の核兵器開発は中朝友好協力相互援助条約違反であり、核兵器開発を放棄しなければ、中国は北朝鮮が攻撃されても支援しないと語った。中国側のこれ以上ない北朝鮮…\n",
      "Sentiment(polarity=0.0, subjectivity=0.0)\n",
      "\n",
      "\n",
      "RT @DailyMail: North Korea hits back at Trump: 'We will go to war if they choose' https://t.co/FRyuIlqrF5 https://t.co/ROXNWiR7cq\n",
      "Sentiment(polarity=0.0, subjectivity=0.0)\n",
      "\n",
      "\n",
      "RT @realDonaldTrump: I have great confidence that China will properly deal with North Korea. If they are unable to do so, the U.S., with it…\n",
      "Sentiment(polarity=0.10000000000000002, subjectivity=0.45)\n",
      "\n",
      "\n",
      "RT @HewaleDersim: 🔴 EXCLUSIVE : North Korea admits that sondage between Despot and SerbeAcerbe was valid.\n",
      "Sentiment(polarity=0.0, subjectivity=0.0)\n",
      "\n",
      "\n",
      "https://t.co/FYlVO1MQ2S North Korea condemns U.S. for bringing \"huge\" nuclear assets to region https://t.co/4tmEbZvsTD\n",
      "Sentiment(polarity=0.4000000000000001, subjectivity=0.9)\n",
      "\n",
      "\n",
      "RT @isaacstonefish: Some thoughts on Trump and North Korea: https://t.co/SI4G0FA9Cc https://t.co/UMc5ZqdA4B\n",
      "Sentiment(polarity=0.0, subjectivity=0.0)\n",
      "\n",
      "\n"
     ]
    }
   ],
   "source": [
    "polarity_value = []\n",
    "subjectivity_value = []\n",
    "no_of_tweets = len(public_tweets)\n",
    "\n",
    "for tweet in public_tweets:\n",
    "    print (tweet.text)\n",
    "    analysis = TextBlob(tweet.text)\n",
    "    print(analysis.sentiment)\n",
    "    polarity_value.append(float(analysis.sentiment.polarity))\n",
    "    subjectivity_value.append(float(analysis.sentiment.subjectivity))\n",
    "    print (\"\\n\")"
   ]
  },
  {
   "cell_type": "code",
   "execution_count": 46,
   "metadata": {
    "collapsed": false
   },
   "outputs": [],
   "source": [
    "avg_pol = sum(polarity_value)/len(polarity_value)\n",
    "avg_sub = sum(subjectivity_value) /len(subjectivity_value)"
   ]
  },
  {
   "cell_type": "code",
   "execution_count": 49,
   "metadata": {
    "collapsed": false
   },
   "outputs": [
    {
     "name": "stdout",
     "output_type": "stream",
     "text": [
      "('Average polarity: ', 0.017777777777777785)\n",
      "('Average subjectivity: ', 0.16444444444444445)\n"
     ]
    }
   ],
   "source": [
    "print (\"Average polarity: \", (avg_pol))\n",
    "print (\"Average subjectivity: \", (avg_sub))"
   ]
  },
  {
   "cell_type": "code",
   "execution_count": null,
   "metadata": {
    "collapsed": false
   },
   "outputs": [],
   "source": []
  },
  {
   "cell_type": "code",
   "execution_count": 38,
   "metadata": {
    "collapsed": true
   },
   "outputs": [],
   "source": []
  },
  {
   "cell_type": "code",
   "execution_count": null,
   "metadata": {
    "collapsed": true
   },
   "outputs": [],
   "source": []
  }
 ],
 "metadata": {
  "kernelspec": {
   "display_name": "Python 2",
   "language": "python",
   "name": "python2"
  },
  "language_info": {
   "codemirror_mode": {
    "name": "ipython",
    "version": 2
   },
   "file_extension": ".py",
   "mimetype": "text/x-python",
   "name": "python",
   "nbconvert_exporter": "python",
   "pygments_lexer": "ipython2",
   "version": "2.7.13"
  }
 },
 "nbformat": 4,
 "nbformat_minor": 2
}
